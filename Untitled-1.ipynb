{
 "cells": [
  {
   "cell_type": "code",
   "execution_count": 61,
   "metadata": {},
   "outputs": [],
   "source": [
    "##To download videos from youtube and bilibili using reference link from the excel sheet 'CN list.xlsx' and 'EN list.xlsx'\n",
    "\n",
    "#libs needed\n",
    "import os\n",
    "import pandas as pd\n",
    "\n",
    "#for downloading youtube videos\n",
    "##!pip install pytube\n",
    "import pytube \n",
    "\n",
    "#for downloading bilibili videos\n",
    "import requests\n",
    "##!pip install bs4\n",
    "from bs4 import BeautifulSoup \n",
    "\n"
   ]
  },
  {
   "cell_type": "code",
   "execution_count": 4,
   "metadata": {},
   "outputs": [],
   "source": [
    "df_cn = pd.read_excel('CN list.xlsx')\n",
    "df_en = pd.read_excel('EN list.xlsx')\n"
   ]
  },
  {
   "cell_type": "code",
   "execution_count": 5,
   "metadata": {},
   "outputs": [
    {
     "name": "stdout",
     "output_type": "stream",
     "text": [
      "<class 'pandas.core.frame.DataFrame'>\n",
      "RangeIndex: 2 entries, 0 to 1\n",
      "Data columns (total 6 columns):\n",
      " #   Column          Non-Null Count  Dtype  \n",
      "---  ------          --------------  -----  \n",
      " 0   Folder Name     0 non-null      float64\n",
      " 1   Song Title      2 non-null      object \n",
      " 2   Artist          2 non-null      object \n",
      " 3   Reference Link  2 non-null      object \n",
      " 4   Video Length    0 non-null      float64\n",
      " 5   Remark          0 non-null      float64\n",
      "dtypes: float64(3), object(3)\n",
      "memory usage: 224.0+ bytes\n"
     ]
    }
   ],
   "source": [
    "df_cn.info()"
   ]
  },
  {
   "cell_type": "code",
   "execution_count": 6,
   "metadata": {},
   "outputs": [
    {
     "name": "stdout",
     "output_type": "stream",
     "text": [
      "<class 'pandas.core.frame.DataFrame'>\n",
      "RangeIndex: 241 entries, 0 to 240\n",
      "Data columns (total 6 columns):\n",
      " #   Column          Non-Null Count  Dtype  \n",
      "---  ------          --------------  -----  \n",
      " 0   Folder Name     0 non-null      float64\n",
      " 1   Song Title      241 non-null    object \n",
      " 2   Artist          241 non-null    object \n",
      " 3   Reference Link  241 non-null    object \n",
      " 4   Video Length    0 non-null      float64\n",
      " 5   Remark          0 non-null      float64\n",
      "dtypes: float64(3), object(3)\n",
      "memory usage: 11.4+ KB\n"
     ]
    }
   ],
   "source": [
    "df_en.info()"
   ]
  },
  {
   "cell_type": "code",
   "execution_count": 10,
   "metadata": {},
   "outputs": [
    {
     "data": {
      "text/plain": [
       "241"
      ]
     },
     "execution_count": 10,
     "metadata": {},
     "output_type": "execute_result"
    }
   ],
   "source": [
    "df_en['Song Title'].count()"
   ]
  },
  {
   "cell_type": "code",
   "execution_count": 12,
   "metadata": {},
   "outputs": [],
   "source": [
    "url_youtube = df_en['Reference Link'][0]\n",
    "url_bilbili = df_cn['Reference Link'][0]"
   ]
  },
  {
   "cell_type": "code",
   "execution_count": 18,
   "metadata": {},
   "outputs": [],
   "source": [
    "import pytube"
   ]
  },
  {
   "cell_type": "code",
   "execution_count": 19,
   "metadata": {},
   "outputs": [],
   "source": [
    "yt = pytube.YouTube(url_youtube)"
   ]
  },
  {
   "cell_type": "code",
   "execution_count": 20,
   "metadata": {},
   "outputs": [
    {
     "data": {
      "text/plain": [
       "\"I Like U So Much, You'll Know It ( 我多喜欢你，你会知道) | Shania Yan Cover\""
      ]
     },
     "execution_count": 20,
     "metadata": {},
     "output_type": "execute_result"
    }
   ],
   "source": [
    "yt.title"
   ]
  },
  {
   "cell_type": "code",
   "execution_count": 21,
   "metadata": {},
   "outputs": [
    {
     "data": {
      "text/plain": [
       "[<Stream: itag=\"17\" mime_type=\"video/3gpp\" res=\"144p\" fps=\"8fps\" vcodec=\"mp4v.20.3\" acodec=\"mp4a.40.2\" progressive=\"True\" type=\"video\">, <Stream: itag=\"18\" mime_type=\"video/mp4\" res=\"360p\" fps=\"30fps\" vcodec=\"avc1.42001E\" acodec=\"mp4a.40.2\" progressive=\"True\" type=\"video\">, <Stream: itag=\"22\" mime_type=\"video/mp4\" res=\"720p\" fps=\"30fps\" vcodec=\"avc1.64001F\" acodec=\"mp4a.40.2\" progressive=\"True\" type=\"video\">, <Stream: itag=\"137\" mime_type=\"video/mp4\" res=\"1080p\" fps=\"30fps\" vcodec=\"avc1.640028\" progressive=\"False\" type=\"video\">, <Stream: itag=\"248\" mime_type=\"video/webm\" res=\"1080p\" fps=\"30fps\" vcodec=\"vp9\" progressive=\"False\" type=\"video\">, <Stream: itag=\"136\" mime_type=\"video/mp4\" res=\"720p\" fps=\"30fps\" vcodec=\"avc1.64001f\" progressive=\"False\" type=\"video\">, <Stream: itag=\"247\" mime_type=\"video/webm\" res=\"720p\" fps=\"30fps\" vcodec=\"vp9\" progressive=\"False\" type=\"video\">, <Stream: itag=\"135\" mime_type=\"video/mp4\" res=\"480p\" fps=\"30fps\" vcodec=\"avc1.4d401f\" progressive=\"False\" type=\"video\">, <Stream: itag=\"244\" mime_type=\"video/webm\" res=\"480p\" fps=\"30fps\" vcodec=\"vp9\" progressive=\"False\" type=\"video\">, <Stream: itag=\"134\" mime_type=\"video/mp4\" res=\"360p\" fps=\"30fps\" vcodec=\"avc1.4d401e\" progressive=\"False\" type=\"video\">, <Stream: itag=\"243\" mime_type=\"video/webm\" res=\"360p\" fps=\"30fps\" vcodec=\"vp9\" progressive=\"False\" type=\"video\">, <Stream: itag=\"133\" mime_type=\"video/mp4\" res=\"240p\" fps=\"30fps\" vcodec=\"avc1.4d4015\" progressive=\"False\" type=\"video\">, <Stream: itag=\"242\" mime_type=\"video/webm\" res=\"240p\" fps=\"30fps\" vcodec=\"vp9\" progressive=\"False\" type=\"video\">, <Stream: itag=\"160\" mime_type=\"video/mp4\" res=\"144p\" fps=\"30fps\" vcodec=\"avc1.4d400c\" progressive=\"False\" type=\"video\">, <Stream: itag=\"278\" mime_type=\"video/webm\" res=\"144p\" fps=\"30fps\" vcodec=\"vp9\" progressive=\"False\" type=\"video\">, <Stream: itag=\"139\" mime_type=\"audio/mp4\" abr=\"48kbps\" acodec=\"mp4a.40.5\" progressive=\"False\" type=\"audio\">, <Stream: itag=\"140\" mime_type=\"audio/mp4\" abr=\"128kbps\" acodec=\"mp4a.40.2\" progressive=\"False\" type=\"audio\">, <Stream: itag=\"249\" mime_type=\"audio/webm\" abr=\"50kbps\" acodec=\"opus\" progressive=\"False\" type=\"audio\">, <Stream: itag=\"250\" mime_type=\"audio/webm\" abr=\"70kbps\" acodec=\"opus\" progressive=\"False\" type=\"audio\">, <Stream: itag=\"251\" mime_type=\"audio/webm\" abr=\"160kbps\" acodec=\"opus\" progressive=\"False\" type=\"audio\">]"
      ]
     },
     "execution_count": 21,
     "metadata": {},
     "output_type": "execute_result"
    }
   ],
   "source": [
    "yt.streams"
   ]
  },
  {
   "cell_type": "code",
   "execution_count": 24,
   "metadata": {},
   "outputs": [
    {
     "data": {
      "text/plain": [
       "[<Stream: itag=\"137\" mime_type=\"video/mp4\" res=\"1080p\" fps=\"30fps\" vcodec=\"avc1.640028\" progressive=\"False\" type=\"video\">, <Stream: itag=\"248\" mime_type=\"video/webm\" res=\"1080p\" fps=\"30fps\" vcodec=\"vp9\" progressive=\"False\" type=\"video\">, <Stream: itag=\"136\" mime_type=\"video/mp4\" res=\"720p\" fps=\"30fps\" vcodec=\"avc1.64001f\" progressive=\"False\" type=\"video\">, <Stream: itag=\"247\" mime_type=\"video/webm\" res=\"720p\" fps=\"30fps\" vcodec=\"vp9\" progressive=\"False\" type=\"video\">, <Stream: itag=\"135\" mime_type=\"video/mp4\" res=\"480p\" fps=\"30fps\" vcodec=\"avc1.4d401f\" progressive=\"False\" type=\"video\">, <Stream: itag=\"244\" mime_type=\"video/webm\" res=\"480p\" fps=\"30fps\" vcodec=\"vp9\" progressive=\"False\" type=\"video\">, <Stream: itag=\"134\" mime_type=\"video/mp4\" res=\"360p\" fps=\"30fps\" vcodec=\"avc1.4d401e\" progressive=\"False\" type=\"video\">, <Stream: itag=\"243\" mime_type=\"video/webm\" res=\"360p\" fps=\"30fps\" vcodec=\"vp9\" progressive=\"False\" type=\"video\">, <Stream: itag=\"133\" mime_type=\"video/mp4\" res=\"240p\" fps=\"30fps\" vcodec=\"avc1.4d4015\" progressive=\"False\" type=\"video\">, <Stream: itag=\"242\" mime_type=\"video/webm\" res=\"240p\" fps=\"30fps\" vcodec=\"vp9\" progressive=\"False\" type=\"video\">, <Stream: itag=\"160\" mime_type=\"video/mp4\" res=\"144p\" fps=\"30fps\" vcodec=\"avc1.4d400c\" progressive=\"False\" type=\"video\">, <Stream: itag=\"278\" mime_type=\"video/webm\" res=\"144p\" fps=\"30fps\" vcodec=\"vp9\" progressive=\"False\" type=\"video\">, <Stream: itag=\"139\" mime_type=\"audio/mp4\" abr=\"48kbps\" acodec=\"mp4a.40.5\" progressive=\"False\" type=\"audio\">, <Stream: itag=\"140\" mime_type=\"audio/mp4\" abr=\"128kbps\" acodec=\"mp4a.40.2\" progressive=\"False\" type=\"audio\">, <Stream: itag=\"249\" mime_type=\"audio/webm\" abr=\"50kbps\" acodec=\"opus\" progressive=\"False\" type=\"audio\">, <Stream: itag=\"250\" mime_type=\"audio/webm\" abr=\"70kbps\" acodec=\"opus\" progressive=\"False\" type=\"audio\">, <Stream: itag=\"251\" mime_type=\"audio/webm\" abr=\"160kbps\" acodec=\"opus\" progressive=\"False\" type=\"audio\">]"
      ]
     },
     "execution_count": 24,
     "metadata": {},
     "output_type": "execute_result"
    }
   ],
   "source": [
    "yt.streams.filter(adaptive=True)"
   ]
  },
  {
   "cell_type": "code",
   "execution_count": 25,
   "metadata": {},
   "outputs": [
    {
     "data": {
      "text/plain": [
       "[<Stream: itag=\"18\" mime_type=\"video/mp4\" res=\"360p\" fps=\"30fps\" vcodec=\"avc1.42001E\" acodec=\"mp4a.40.2\" progressive=\"True\" type=\"video\">, <Stream: itag=\"22\" mime_type=\"video/mp4\" res=\"720p\" fps=\"30fps\" vcodec=\"avc1.64001F\" acodec=\"mp4a.40.2\" progressive=\"True\" type=\"video\">, <Stream: itag=\"137\" mime_type=\"video/mp4\" res=\"1080p\" fps=\"30fps\" vcodec=\"avc1.640028\" progressive=\"False\" type=\"video\">, <Stream: itag=\"136\" mime_type=\"video/mp4\" res=\"720p\" fps=\"30fps\" vcodec=\"avc1.64001f\" progressive=\"False\" type=\"video\">, <Stream: itag=\"135\" mime_type=\"video/mp4\" res=\"480p\" fps=\"30fps\" vcodec=\"avc1.4d401f\" progressive=\"False\" type=\"video\">, <Stream: itag=\"134\" mime_type=\"video/mp4\" res=\"360p\" fps=\"30fps\" vcodec=\"avc1.4d401e\" progressive=\"False\" type=\"video\">, <Stream: itag=\"133\" mime_type=\"video/mp4\" res=\"240p\" fps=\"30fps\" vcodec=\"avc1.4d4015\" progressive=\"False\" type=\"video\">, <Stream: itag=\"160\" mime_type=\"video/mp4\" res=\"144p\" fps=\"30fps\" vcodec=\"avc1.4d400c\" progressive=\"False\" type=\"video\">, <Stream: itag=\"139\" mime_type=\"audio/mp4\" abr=\"48kbps\" acodec=\"mp4a.40.5\" progressive=\"False\" type=\"audio\">, <Stream: itag=\"140\" mime_type=\"audio/mp4\" abr=\"128kbps\" acodec=\"mp4a.40.2\" progressive=\"False\" type=\"audio\">]"
      ]
     },
     "execution_count": 25,
     "metadata": {},
     "output_type": "execute_result"
    }
   ],
   "source": [
    "yt.streams.filter(file_extension='mp4')"
   ]
  },
  {
   "cell_type": "code",
   "execution_count": 49,
   "metadata": {},
   "outputs": [],
   "source": [
    "path = 'data_raw\\En_rawdata\\I Like U So Much,Youll Know it_ShaniaYan'\n",
    "song_name = 'I Like U So Much,Youll Know it_ShaniaYan.flv'"
   ]
  },
  {
   "cell_type": "code",
   "execution_count": 50,
   "metadata": {},
   "outputs": [
    {
     "data": {
      "text/plain": [
       "<Stream: itag=\"22\" mime_type=\"video/mp4\" res=\"720p\" fps=\"30fps\" vcodec=\"avc1.64001F\" acodec=\"mp4a.40.2\" progressive=\"True\" type=\"video\">"
      ]
     },
     "execution_count": 50,
     "metadata": {},
     "output_type": "execute_result"
    }
   ],
   "source": [
    "yt.streams.get_highest_resolution()"
   ]
  },
  {
   "cell_type": "code",
   "execution_count": 51,
   "metadata": {},
   "outputs": [
    {
     "data": {
      "text/plain": [
       "<Stream: itag=\"137\" mime_type=\"video/mp4\" res=\"1080p\" fps=\"30fps\" vcodec=\"avc1.640028\" progressive=\"False\" type=\"video\">"
      ]
     },
     "execution_count": 51,
     "metadata": {},
     "output_type": "execute_result"
    }
   ],
   "source": [
    "yt.streams.get_by_itag('137')"
   ]
  },
  {
   "cell_type": "code",
   "execution_count": 52,
   "metadata": {},
   "outputs": [
    {
     "data": {
      "text/plain": [
       "'c:\\\\Users\\\\daiya\\\\OneDrive\\\\Desktop\\\\singing videos collection\\\\data_raw\\\\En_rawdata\\\\I Like U So Much,Youll Know it_ShaniaYan\\\\I Like U So Much,Youll Know it_ShaniaYan.flv'"
      ]
     },
     "execution_count": 52,
     "metadata": {},
     "output_type": "execute_result"
    }
   ],
   "source": [
    "stream = yt.streams.get_by_itag('137')\n",
    "stream.download(filename=song_name,output_path=path)"
   ]
  },
  {
   "cell_type": "code",
   "execution_count": 56,
   "metadata": {},
   "outputs": [
    {
     "data": {
      "text/plain": [
       "<Stream: itag=\"137\" mime_type=\"video/mp4\" res=\"1080p\" fps=\"30fps\" vcodec=\"avc1.640028\" progressive=\"False\" type=\"video\">"
      ]
     },
     "execution_count": 56,
     "metadata": {},
     "output_type": "execute_result"
    }
   ],
   "source": [
    "streams_flv_format = yt.streams.filter(adaptive= True).first()\n",
    "streams_flv_format"
   ]
  },
  {
   "cell_type": "code",
   "execution_count": 58,
   "metadata": {},
   "outputs": [],
   "source": [
    "audio_name = 'I Like U So Much,Youll Know it_ShaniaYan'"
   ]
  },
  {
   "cell_type": "code",
   "execution_count": 60,
   "metadata": {},
   "outputs": [
    {
     "data": {
      "text/plain": [
       "'c:\\\\Users\\\\daiya\\\\OneDrive\\\\Desktop\\\\singing videos collection\\\\data_raw\\\\En_rawdata\\\\I Like U So Much,Youll Know it_ShaniaYan\\\\I Like U So Much,Youll Know it_ShaniaYan.mp3'"
      ]
     },
     "execution_count": 60,
     "metadata": {},
     "output_type": "execute_result"
    }
   ],
   "source": [
    "audio = yt.streams.get_audio_only()\n",
    "#audio.download(filename= audio_name+'.mp3',output_path=path)"
   ]
  },
  {
   "cell_type": "code",
   "execution_count": 62,
   "metadata": {},
   "outputs": [
    {
     "data": {
      "text/plain": [
       "'https://www.bilibili.com/video/BV1aD4y1p7S5/'"
      ]
     },
     "execution_count": 62,
     "metadata": {},
     "output_type": "execute_result"
    }
   ],
   "source": [
    "url_bilbili"
   ]
  },
  {
   "cell_type": "code",
   "execution_count": 101,
   "metadata": {},
   "outputs": [],
   "source": [
    "r=requests.get(url_bilbili)\n",
    "r.encoding = 'utf-8'\n",
    "source = r.text\n",
    "source = source.split('<script>window.__playinfo__=')[1]\n",
    "source = source.split('</script>')[0]"
   ]
  },
  {
   "cell_type": "code",
   "execution_count": 102,
   "metadata": {},
   "outputs": [],
   "source": [
    "soup = BeautifulSoup(source)"
   ]
  },
  {
   "cell_type": "code",
   "execution_count": 103,
   "metadata": {},
   "outputs": [
    {
     "name": "stdout",
     "output_type": "stream",
     "text": [
      "<html>\n",
      " <body>\n",
      "  <p>\n",
      "   {\"code\":0,\"message\":\"0\",\"ttl\":1,\"data\":{\"from\":\"local\",\"result\":\"suee\",\"message\":\"\",\"quality\":32,\"format\":\"flv480\",\"timelength\":231124,\"accept_format\":\"hdflv2,flv,flv720,flv480,mp4\",\"accept_description\":[\"高清 1080P+\",\"高清 1080P\",\"高清 720P\",\"清晰 480P\",\"流畅 360P\"],\"accept_quality\":[112,80,64,32,16],\"video_codecid\":7,\"seek_param\":\"start\",\"seek_type\":\"offset\",\"dash\":{\"duration\":232,\"minBufferTime\":1.5,\"min_buffer_time\":1.5,\"video\":[{\"id\":32,\"baseUrl\":\"https://upos-hz-mirrorakam.akamaized.net/upgcxcode/84/69/958076984/958076984_nb3-1-30032.m4s?e=ig8euxZM2rNcNbdlhoNvNC8BqJIzNbfqXBvEqxTEto8BTrNvN0GvT90W5JZMkX_YN0MvXg8gNEV4NC8xNEV4N03eN0B5tZlqNxTEto8BTrNvNeZVuJ10Kj_g2UB02J0mN0B5tZlqNCNEto8BTrNvNC7MTX502C8f2jmMQJ6mqF2fka1mqx6gqj0eN0B599M=&amp;uipk=5&amp;nbs=1&amp;deadline=1675010750&amp;gen=playurlv2&amp;os=akam&amp;oi=1947205194&amp;trid=d80cd2a97af54c98a20db5c28bbc6964u&amp;mid=0&amp;platform=pc&amp;upsig=a3e75bb69bc19b6fe48c48906a25612e&amp;uparams=e,uipk,nbs,deadline,gen,os,oi,trid,mid,platform&amp;hdnts=exp=1675010750~hmac=61c6993f19a8aabc6a11cab4479adfa53a090e84f369f6c963dc9d48e14dc453&amp;bvc=vod&amp;nettype=0&amp;orderid=0,1&amp;buvid=&amp;build=0&amp;agrr=1&amp;bw=52821&amp;logo=80000000\",\"base_url\":\"https://upos-hz-mirrorakam.akamaized.net/upgcxcode/84/69/958076984/958076984_nb3-1-30032.m4s?e=ig8euxZM2rNcNbdlhoNvNC8BqJIzNbfqXBvEqxTEto8BTrNvN0GvT90W5JZMkX_YN0MvXg8gNEV4NC8xNEV4N03eN0B5tZlqNxTEto8BTrNvNeZVuJ10Kj_g2UB02J0mN0B5tZlqNCNEto8BTrNvNC7MTX502C8f2jmMQJ6mqF2fka1mqx6gqj0eN0B599M=&amp;uipk=5&amp;nbs=1&amp;deadline=1675010750&amp;gen=playurlv2&amp;os=akam&amp;oi=1947205194&amp;trid=d80cd2a97af54c98a20db5c28bbc6964u&amp;mid=0&amp;platform=pc&amp;upsig=a3e75bb69bc19b6fe48c48906a25612e&amp;uparams=e,uipk,nbs,deadline,gen,os,oi,trid,mid,platform&amp;hdnts=exp=1675010750~hmac=61c6993f19a8aabc6a11cab4479adfa53a090e84f369f6c963dc9d48e14dc453&amp;bvc=vod&amp;nettype=0&amp;orderid=0,1&amp;buvid=&amp;build=0&amp;agrr=1&amp;bw=52821&amp;logo=80000000\",\"backupUrl\":null,\"backup_url\":null,\"bandwidth\":420889,\"mimeType\":\"video/mp4\",\"mime_type\":\"video/mp4\",\"codecs\":\"avc1.64001F\",\"width\":846,\"height\":480,\"frameRate\":\"25\",\"frame_rate\":\"25\",\"sar\":\"800:799\",\"startWithSap\":1,\"start_with_sap\":1,\"SegmentBase\":{\"Initialization\":\"0-999\",\"indexRange\":\"1000-1583\"},\"segment_base\":{\"initialization\":\"0-999\",\"index_range\":\"1000-1583\"},\"codecid\":7},{\"id\":32,\"baseUrl\":\"https://upos-hz-mirrorakam.akamaized.net/upgcxcode/84/69/958076984/958076984-1-30033.m4s?e=ig8euxZM2rNcNbdlhoNvNC8BqJIzNbfqXBvEqxTEto8BTrNvN0GvT90W5JZMkX_YN0MvXg8gNEV4NC8xNEV4N03eN0B5tZlqNxTEto8BTrNvNeZVuJ10Kj_g2UB02J0mN0B5tZlqNCNEto8BTrNvNC7MTX502C8f2jmMQJ6mqF2fka1mqx6gqj0eN0B599M=&amp;uipk=5&amp;nbs=1&amp;deadline=1675010750&amp;gen=playurlv2&amp;os=akam&amp;oi=1947205194&amp;trid=d80cd2a97af54c98a20db5c28bbc6964u&amp;mid=0&amp;platform=pc&amp;upsig=bd48ea61f35300033695ec6ceb5ce80e&amp;uparams=e,uipk,nbs,deadline,gen,os,oi,trid,mid,platform&amp;hdnts=exp=1675010750~hmac=7bb924452f31dfce4fe6f288c52e1421c34faef3c3e02d01aeed0db537b1d44f&amp;bvc=vod&amp;nettype=0&amp;orderid=0,1&amp;buvid=&amp;build=0&amp;agrr=1&amp;bw=26629&amp;logo=80000000\",\"base_url\":\"https://upos-hz-mirrorakam.akamaized.net/upgcxcode/84/69/958076984/958076984-1-30033.m4s?e=ig8euxZM2rNcNbdlhoNvNC8BqJIzNbfqXBvEqxTEto8BTrNvN0GvT90W5JZMkX_YN0MvXg8gNEV4NC8xNEV4N03eN0B5tZlqNxTEto8BTrNvNeZVuJ10Kj_g2UB02J0mN0B5tZlqNCNEto8BTrNvNC7MTX502C8f2jmMQJ6mqF2fka1mqx6gqj0eN0B599M=&amp;uipk=5&amp;nbs=1&amp;deadline=1675010750&amp;gen=playurlv2&amp;os=akam&amp;oi=1947205194&amp;trid=d80cd2a97af54c98a20db5c28bbc6964u&amp;mid=0&amp;platform=pc&amp;upsig=bd48ea61f35300033695ec6ceb5ce80e&amp;uparams=e,uipk,nbs,deadline,gen,os,oi,trid,mid,platform&amp;hdnts=exp=1675010750~hmac=7bb924452f31dfce4fe6f288c52e1421c34faef3c3e02d01aeed0db537b1d44f&amp;bvc=vod&amp;nettype=0&amp;orderid=0,1&amp;buvid=&amp;build=0&amp;agrr=1&amp;bw=26629&amp;logo=80000000\",\"backupUrl\":null,\"backup_url\":null,\"bandwidth\":212185,\"mimeType\":\"video/mp4\",\"mime_type\":\"video/mp4\",\"codecs\":\"hev1.1.6.L120.90\",\"width\":846,\"height\":480,\"frameRate\":\"25\",\"frame_rate\":\"25\",\"sar\":\"800:799\",\"startWithSap\":1,\"start_with_sap\":1,\"SegmentBase\":{\"Initialization\":\"0-1163\",\"indexRange\":\"1164-1747\"},\"segment_base\":{\"initialization\":\"0-1163\",\"index_range\":\"1164-1747\"},\"codecid\":12},{\"id\":32,\"baseUrl\":\"https://upos-hz-mirrorakam.akamaized.net/upgcxcode/84/69/958076984/958076984-1-100023.m4s?e=ig8euxZM2rNcNbdlhoNvNC8BqJIzNbfqXBvEqxTEto8BTrNvN0GvT90W5JZMkX_YN0MvXg8gNEV4NC8xNEV4N03eN0B5tZlqNxTEto8BTrNvNeZVuJ10Kj_g2UB02J0mN0B5tZlqNCNEto8BTrNvNC7MTX502C8f2jmMQJ6mqF2fka1mqx6gqj0eN0B599M=&amp;uipk=5&amp;nbs=1&amp;deadline=1675010750&amp;gen=playurlv2&amp;os=akam&amp;oi=1947205194&amp;trid=d80cd2a97af54c98a20db5c28bbc6964u&amp;mid=0&amp;platform=pc&amp;upsig=c87435f5e5eb8dfb22da82f0e57f5d15&amp;uparams=e,uipk,nbs,deadline,gen,os,oi,trid,mid,platform&amp;hdnts=exp=1675010750~hmac=ae0ccdebc23ad857781b27a2f3fd3d5ca30aa0892edd9a1747b6457fe5a8b3c0&amp;bvc=vod&amp;nettype=0&amp;orderid=0,1&amp;buvid=&amp;build=0&amp;agrr=1&amp;bw=23420&amp;logo=80000000\",\"base_url\":\"https://upos-hz-mirrorakam.akamaized.net/upgcxcode/84/69/958076984/958076984-1-100023.m4s?e=ig8euxZM2rNcNbdlhoNvNC8BqJIzNbfqXBvEqxTEto8BTrNvN0GvT90W5JZMkX_YN0MvXg8gNEV4NC8xNEV4N03eN0B5tZlqNxTEto8BTrNvNeZVuJ10Kj_g2UB02J0mN0B5tZlqNCNEto8BTrNvNC7MTX502C8f2jmMQJ6mqF2fka1mqx6gqj0eN0B599M=&amp;uipk=5&amp;nbs=1&amp;deadline=1675010750&amp;gen=playurlv2&amp;os=akam&amp;oi=1947205194&amp;trid=d80cd2a97af54c98a20db5c28bbc6964u&amp;mid=0&amp;platform=pc&amp;upsig=c87435f5e5eb8dfb22da82f0e57f5d15&amp;uparams=e,uipk,nbs,deadline,gen,os,oi,trid,mid,platform&amp;hdnts=exp=1675010750~hmac=ae0ccdebc23ad857781b27a2f3fd3d5ca30aa0892edd9a1747b6457fe5a8b3c0&amp;bvc=vod&amp;nettype=0&amp;orderid=0,1&amp;buvid=&amp;build=0&amp;agrr=1&amp;bw=23420&amp;logo=80000000\",\"backupUrl\":null,\"backup_url\":null,\"bandwidth\":185599,\"mimeType\":\"video/mp4\",\"mime_type\":\"video/mp4\",\"codecs\":\"av01.0.08M.08.0.110.01.01.01.0\",\"width\":846,\"height\":480,\"frameRate\":\"25\",\"frame_rate\":\"25\",\"sar\":\"800:799\",\"startWithSap\":1,\"start_with_sap\":1,\"SegmentBase\":{\"Initialization\":\"0-1022\",\"indexRange\":\"1087-1682\"},\"segment_base\":{\"initialization\":\"0-1022\",\"index_range\":\"1087-1682\"},\"codecid\":13},{\"id\":16,\"baseUrl\":\"https://upos-hz-mirrorakam.akamaized.net/upgcxcode/84/69/958076984/958076984-1-30011.m4s?e=ig8euxZM2rNcNbdlhoNvNC8BqJIzNbfqXBvEqxTEto8BTrNvN0GvT90W5JZMkX_YN0MvXg8gNEV4NC8xNEV4N03eN0B5tZlqNxTEto8BTrNvNeZVuJ10Kj_g2UB02J0mN0B5tZlqNCNEto8BTrNvNC7MTX502C8f2jmMQJ6mqF2fka1mqx6gqj0eN0B599M=&amp;uipk=5&amp;nbs=1&amp;deadline=1675010750&amp;gen=playurlv2&amp;os=akam&amp;oi=1947205194&amp;trid=d80cd2a97af54c98a20db5c28bbc6964u&amp;mid=0&amp;platform=pc&amp;upsig=1f643c8d2193c0244a59075e1b0ba1ea&amp;uparams=e,uipk,nbs,deadline,gen,os,oi,trid,mid,platform&amp;hdnts=exp=1675010750~hmac=87130a808e9924c50488860625e38025c8c4ca6caaa43928ff63ace09e0ceab6&amp;bvc=vod&amp;nettype=0&amp;orderid=0,1&amp;buvid=&amp;build=0&amp;agrr=1&amp;bw=18077&amp;logo=80000000\",\"base_url\":\"https://upos-hz-mirrorakam.akamaized.net/upgcxcode/84/69/958076984/958076984-1-30011.m4s?e=ig8euxZM2rNcNbdlhoNvNC8BqJIzNbfqXBvEqxTEto8BTrNvN0GvT90W5JZMkX_YN0MvXg8gNEV4NC8xNEV4N03eN0B5tZlqNxTEto8BTrNvNeZVuJ10Kj_g2UB02J0mN0B5tZlqNCNEto8BTrNvNC7MTX502C8f2jmMQJ6mqF2fka1mqx6gqj0eN0B599M=&amp;uipk=5&amp;nbs=1&amp;deadline=1675010750&amp;gen=playurlv2&amp;os=akam&amp;oi=1947205194&amp;trid=d80cd2a97af54c98a20db5c28bbc6964u&amp;mid=0&amp;platform=pc&amp;upsig=1f643c8d2193c0244a59075e1b0ba1ea&amp;uparams=e,uipk,nbs,deadline,gen,os,oi,trid,mid,platform&amp;hdnts=exp=1675010750~hmac=87130a808e9924c50488860625e38025c8c4ca6caaa43928ff63ace09e0ceab6&amp;bvc=vod&amp;nettype=0&amp;orderid=0,1&amp;buvid=&amp;build=0&amp;agrr=1&amp;bw=18077&amp;logo=80000000\",\"backupUrl\":null,\"backup_url\":null,\"bandwidth\":144043,\"mimeType\":\"video/mp4\",\"mime_type\":\"video/mp4\",\"codecs\":\"hev1.1.6.L120.90\",\"width\":634,\"height\":360,\"frameRate\":\"25\",\"frame_rate\":\"25\",\"sar\":\"5400:5389\",\"startWithSap\":1,\"start_with_sap\":1,\"SegmentBase\":{\"Initialization\":\"0-1162\",\"indexRange\":\"1163-1746\"},\"segment_base\":{\"initialization\":\"0-1162\",\"index_range\":\"1163-1746\"},\"codecid\":12},{\"id\":16,\"baseUrl\":\"https://upos-hz-mirrorakam.akamaized.net/upgcxcode/84/69/958076984/958076984_nb3-1-30016.m4s?e=ig8euxZM2rNcNbdlhoNvNC8BqJIzNbfqXBvEqxTEto8BTrNvN0GvT90W5JZMkX_YN0MvXg8gNEV4NC8xNEV4N03eN0B5tZlqNxTEto8BTrNvNeZVuJ10Kj_g2UB02J0mN0B5tZlqNCNEto8BTrNvNC7MTX502C8f2jmMQJ6mqF2fka1mqx6gqj0eN0B599M=&amp;uipk=5&amp;nbs=1&amp;deadline=1675010750&amp;gen=playurlv2&amp;os=akam&amp;oi=1947205194&amp;trid=d80cd2a97af54c98a20db5c28bbc6964u&amp;mid=0&amp;platform=pc&amp;upsig=bf2455c96366061dc844284758aa6cd6&amp;uparams=e,uipk,nbs,deadline,gen,os,oi,trid,mid,platform&amp;hdnts=exp=1675010750~hmac=f47b59a9b3987e80e0b298794a4a338498413e18562d40575392248f7bfc8757&amp;bvc=vod&amp;nettype=0&amp;orderid=0,1&amp;buvid=&amp;build=0&amp;agrr=1&amp;bw=33726&amp;logo=80000000\",\"base_url\":\"https://upos-hz-mirrorakam.akamaized.net/upgcxcode/84/69/958076984/958076984_nb3-1-30016.m4s?e=ig8euxZM2rNcNbdlhoNvNC8BqJIzNbfqXBvEqxTEto8BTrNvN0GvT90W5JZMkX_YN0MvXg8gNEV4NC8xNEV4N03eN0B5tZlqNxTEto8BTrNvNeZVuJ10Kj_g2UB02J0mN0B5tZlqNCNEto8BTrNvNC7MTX502C8f2jmMQJ6mqF2fka1mqx6gqj0eN0B599M=&amp;uipk=5&amp;nbs=1&amp;deadline=1675010750&amp;gen=playurlv2&amp;os=akam&amp;oi=1947205194&amp;trid=d80cd2a97af54c98a20db5c28bbc6964u&amp;mid=0&amp;platform=pc&amp;upsig=bf2455c96366061dc844284758aa6cd6&amp;uparams=e,uipk,nbs,deadline,gen,os,oi,trid,mid,platform&amp;hdnts=exp=1675010750~hmac=f47b59a9b3987e80e0b298794a4a338498413e18562d40575392248f7bfc8757&amp;bvc=vod&amp;nettype=0&amp;orderid=0,1&amp;buvid=&amp;build=0&amp;agrr=1&amp;bw=33726&amp;logo=80000000\",\"backupUrl\":null,\"backup_url\":null,\"bandwidth\":268733,\"mimeType\":\"video/mp4\",\"mime_type\":\"video/mp4\",\"codecs\":\"avc1.64001E\",\"width\":634,\"height\":360,\"frameRate\":\"25\",\"frame_rate\":\"25\",\"sar\":\"3927:3919\",\"startWithSap\":1,\"start_with_sap\":1,\"SegmentBase\":{\"Initialization\":\"0-1007\",\"indexRange\":\"1008-1591\"},\"segment_base\":{\"initialization\":\"0-1007\",\"index_range\":\"1008-1591\"},\"codecid\":7},{\"id\":16,\"baseUrl\":\"https://upos-hz-mirrorakam.akamaized.net/upgcxcode/84/69/958076984/958076984-1-100022.m4s?e=ig8euxZM2rNcNbdlhoNvNC8BqJIzNbfqXBvEqxTEto8BTrNvN0GvT90W5JZMkX_YN0MvXg8gNEV4NC8xNEV4N03eN0B5tZlqNxTEto8BTrNvNeZVuJ10Kj_g2UB02J0mN0B5tZlqNCNEto8BTrNvNC7MTX502C8f2jmMQJ6mqF2fka1mqx6gqj0eN0B599M=&amp;uipk=5&amp;nbs=1&amp;deadline=1675010750&amp;gen=playurlv2&amp;os=akam&amp;oi=1947205194&amp;trid=d80cd2a97af54c98a20db5c28bbc6964u&amp;mid=0&amp;platform=pc&amp;upsig=1d8304a83c25d63b0e01eb8ee34229c9&amp;uparams=e,uipk,nbs,deadline,gen,os,oi,trid,mid,platform&amp;hdnts=exp=1675010750~hmac=0daf3ff5b0bbdd40e25269396d72425145f0962e54a6e1bebd3009a156ee639f&amp;bvc=vod&amp;nettype=0&amp;orderid=0,1&amp;buvid=&amp;build=0&amp;agrr=1&amp;bw=18904&amp;logo=80000000\",\"base_url\":\"https://upos-hz-mirrorakam.akamaized.net/upgcxcode/84/69/958076984/958076984-1-100022.m4s?e=ig8euxZM2rNcNbdlhoNvNC8BqJIzNbfqXBvEqxTEto8BTrNvN0GvT90W5JZMkX_YN0MvXg8gNEV4NC8xNEV4N03eN0B5tZlqNxTEto8BTrNvNeZVuJ10Kj_g2UB02J0mN0B5tZlqNCNEto8BTrNvNC7MTX502C8f2jmMQJ6mqF2fka1mqx6gqj0eN0B599M=&amp;uipk=5&amp;nbs=1&amp;deadline=1675010750&amp;gen=playurlv2&amp;os=akam&amp;oi=1947205194&amp;trid=d80cd2a97af54c98a20db5c28bbc6964u&amp;mid=0&amp;platform=pc&amp;upsig=1d8304a83c25d63b0e01eb8ee34229c9&amp;uparams=e,uipk,nbs,deadline,gen,os,oi,trid,mid,platform&amp;hdnts=exp=1675010750~hmac=0daf3ff5b0bbdd40e25269396d72425145f0962e54a6e1bebd3009a156ee639f&amp;bvc=vod&amp;nettype=0&amp;orderid=0,1&amp;buvid=&amp;build=0&amp;agrr=1&amp;bw=18904&amp;logo=80000000\",\"backupUrl\":null,\"backup_url\":null,\"bandwidth\":149617,\"mimeType\":\"video/mp4\",\"mime_type\":\"video/mp4\",\"codecs\":\"av01.0.08M.08.0.110.01.01.01.0\",\"width\":634,\"height\":360,\"frameRate\":\"25\",\"frame_rate\":\"25\",\"sar\":\"5400:5389\",\"startWithSap\":1,\"start_with_sap\":1,\"SegmentBase\":{\"Initialization\":\"0-1022\",\"indexRange\":\"1087-1682\"},\"segment_base\":{\"initialization\":\"0-1022\",\"index_range\":\"1087-1682\"},\"codecid\":13}],\"audio\":[{\"id\":30280,\"baseUrl\":\"https://upos-hz-mirrorakam.akamaized.net/upgcxcode/84/69/958076984/958076984_nb3-1-30280.m4s?e=ig8euxZM2rNcNbdlhoNvNC8BqJIzNbfqXBvEqxTEto8BTrNvN0GvT90W5JZMkX_YN0MvXg8gNEV4NC8xNEV4N03eN0B5tZlqNxTEto8BTrNvNeZVuJ10Kj_g2UB02J0mN0B5tZlqNCNEto8BTrNvNC7MTX502C8f2jmMQJ6mqF2fka1mqx6gqj0eN0B599M=&amp;uipk=5&amp;nbs=1&amp;deadline=1675010750&amp;gen=playurlv2&amp;os=akam&amp;oi=1947205194&amp;trid=d80cd2a97af54c98a20db5c28bbc6964u&amp;mid=0&amp;platform=pc&amp;upsig=44c211fc8260b7b8286787fa064e76d1&amp;uparams=e,uipk,nbs,deadline,gen,os,oi,trid,mid,platform&amp;hdnts=exp=1675010750~hmac=fd9fd2bbc497bc49021fd768936419492304d2037a6c3c041260a0c5090b73fd&amp;bvc=vod&amp;nettype=0&amp;orderid=0,1&amp;buvid=&amp;build=0&amp;agrr=1&amp;bw=27113&amp;logo=80000000\",\"base_url\":\"https://upos-hz-mirrorakam.akamaized.net/upgcxcode/84/69/958076984/958076984_nb3-1-30280.m4s?e=ig8euxZM2rNcNbdlhoNvNC8BqJIzNbfqXBvEqxTEto8BTrNvN0GvT90W5JZMkX_YN0MvXg8gNEV4NC8xNEV4N03eN0B5tZlqNxTEto8BTrNvNeZVuJ10Kj_g2UB02J0mN0B5tZlqNCNEto8BTrNvNC7MTX502C8f2jmMQJ6mqF2fka1mqx6gqj0eN0B599M=&amp;uipk=5&amp;nbs=1&amp;deadline=1675010750&amp;gen=playurlv2&amp;os=akam&amp;oi=1947205194&amp;trid=d80cd2a97af54c98a20db5c28bbc6964u&amp;mid=0&amp;platform=pc&amp;upsig=44c211fc8260b7b8286787fa064e76d1&amp;uparams=e,uipk,nbs,deadline,gen,os,oi,trid,mid,platform&amp;hdnts=exp=1675010750~hmac=fd9fd2bbc497bc49021fd768936419492304d2037a6c3c041260a0c5090b73fd&amp;bvc=vod&amp;nettype=0&amp;orderid=0,1&amp;buvid=&amp;build=0&amp;agrr=1&amp;bw=27113&amp;logo=80000000\",\"backupUrl\":null,\"backup_url\":null,\"bandwidth\":216870,\"mimeType\":\"audio/mp4\",\"mime_type\":\"audio/mp4\",\"codecs\":\"mp4a.40.2\",\"width\":0,\"height\":0,\"frameRate\":\"\",\"frame_rate\":\"\",\"sar\":\"\",\"startWithSap\":0,\"start_with_sap\":0,\"SegmentBase\":{\"Initialization\":\"0-933\",\"indexRange\":\"934-1529\"},\"segment_base\":{\"initialization\":\"0-933\",\"index_range\":\"934-1529\"},\"codecid\":0},{\"id\":30216,\"baseUrl\":\"https://upos-hz-mirrorakam.akamaized.net/upgcxcode/84/69/958076984/958076984_nb3-1-30216.m4s?e=ig8euxZM2rNcNbdlhoNvNC8BqJIzNbfqXBvEqxTEto8BTrNvN0GvT90W5JZMkX_YN0MvXg8gNEV4NC8xNEV4N03eN0B5tZlqNxTEto8BTrNvNeZVuJ10Kj_g2UB02J0mN0B5tZlqNCNEto8BTrNvNC7MTX502C8f2jmMQJ6mqF2fka1mqx6gqj0eN0B599M=&amp;uipk=5&amp;nbs=1&amp;deadline=1675010750&amp;gen=playurlv2&amp;os=akam&amp;oi=1947205194&amp;trid=d80cd2a97af54c98a20db5c28bbc6964u&amp;mid=0&amp;platform=pc&amp;upsig=deec814620816194ba39e28a134129fc&amp;uparams=e,uipk,nbs,deadline,gen,os,oi,trid,mid,platform&amp;hdnts=exp=1675010750~hmac=1a7df0530b876ccd73f9cd2d4bfe2d3aac220c1493cbfa393671c4c5ae18d059&amp;bvc=vod&amp;nettype=0&amp;orderid=0,1&amp;buvid=&amp;build=0&amp;agrr=1&amp;bw=6643&amp;logo=80000000\",\"base_url\":\"https://upos-hz-mirrorakam.akamaized.net/upgcxcode/84/69/958076984/958076984_nb3-1-30216.m4s?e=ig8euxZM2rNcNbdlhoNvNC8BqJIzNbfqXBvEqxTEto8BTrNvN0GvT90W5JZMkX_YN0MvXg8gNEV4NC8xNEV4N03eN0B5tZlqNxTEto8BTrNvNeZVuJ10Kj_g2UB02J0mN0B5tZlqNCNEto8BTrNvNC7MTX502C8f2jmMQJ6mqF2fka1mqx6gqj0eN0B599M=&amp;uipk=5&amp;nbs=1&amp;deadline=1675010750&amp;gen=playurlv2&amp;os=akam&amp;oi=1947205194&amp;trid=d80cd2a97af54c98a20db5c28bbc6964u&amp;mid=0&amp;platform=pc&amp;upsig=deec814620816194ba39e28a134129fc&amp;uparams=e,uipk,nbs,deadline,gen,os,oi,trid,mid,platform&amp;hdnts=exp=1675010750~hmac=1a7df0530b876ccd73f9cd2d4bfe2d3aac220c1493cbfa393671c4c5ae18d059&amp;bvc=vod&amp;nettype=0&amp;orderid=0,1&amp;buvid=&amp;build=0&amp;agrr=1&amp;bw=6643&amp;logo=80000000\",\"backupUrl\":null,\"backup_url\":null,\"bandwidth\":53121,\"mimeType\":\"audio/mp4\",\"mime_type\":\"audio/mp4\",\"codecs\":\"mp4a.40.5\",\"width\":0,\"height\":0,\"frameRate\":\"\",\"frame_rate\":\"\",\"sar\":\"\",\"startWithSap\":0,\"start_with_sap\":0,\"SegmentBase\":{\"Initialization\":\"0-943\",\"indexRange\":\"944-1539\"},\"segment_base\":{\"initialization\":\"0-943\",\"index_range\":\"944-1539\"},\"codecid\":0},{\"id\":30232,\"baseUrl\":\"https://upos-hz-mirrorakam.akamaized.net/upgcxcode/84/69/958076984/958076984_nb3-1-30232.m4s?e=ig8euxZM2rNcNbdlhoNvNC8BqJIzNbfqXBvEqxTEto8BTrNvN0GvT90W5JZMkX_YN0MvXg8gNEV4NC8xNEV4N03eN0B5tZlqNxTEto8BTrNvNeZVuJ10Kj_g2UB02J0mN0B5tZlqNCNEto8BTrNvNC7MTX502C8f2jmMQJ6mqF2fka1mqx6gqj0eN0B599M=&amp;uipk=5&amp;nbs=1&amp;deadline=1675010750&amp;gen=playurlv2&amp;os=akam&amp;oi=1947205194&amp;trid=d80cd2a97af54c98a20db5c28bbc6964u&amp;mid=0&amp;platform=pc&amp;upsig=6cfa46da8837a267020ee327d2f39bcd&amp;uparams=e,uipk,nbs,deadline,gen,os,oi,trid,mid,platform&amp;hdnts=exp=1675010750~hmac=121e3b26fa1ab5a9806ed8c9b56502848dd4201cca4d0cfaffa0605607c0905d&amp;bvc=vod&amp;nettype=0&amp;orderid=0,1&amp;buvid=&amp;build=0&amp;agrr=1&amp;bw=14280&amp;logo=80000000\",\"base_url\":\"https://upos-hz-mirrorakam.akamaized.net/upgcxcode/84/69/958076984/958076984_nb3-1-30232.m4s?e=ig8euxZM2rNcNbdlhoNvNC8BqJIzNbfqXBvEqxTEto8BTrNvN0GvT90W5JZMkX_YN0MvXg8gNEV4NC8xNEV4N03eN0B5tZlqNxTEto8BTrNvNeZVuJ10Kj_g2UB02J0mN0B5tZlqNCNEto8BTrNvNC7MTX502C8f2jmMQJ6mqF2fka1mqx6gqj0eN0B599M=&amp;uipk=5&amp;nbs=1&amp;deadline=1675010750&amp;gen=playurlv2&amp;os=akam&amp;oi=1947205194&amp;trid=d80cd2a97af54c98a20db5c28bbc6964u&amp;mid=0&amp;platform=pc&amp;upsig=6cfa46da8837a267020ee327d2f39bcd&amp;uparams=e,uipk,nbs,deadline,gen,os,oi,trid,mid,platform&amp;hdnts=exp=1675010750~hmac=121e3b26fa1ab5a9806ed8c9b56502848dd4201cca4d0cfaffa0605607c0905d&amp;bvc=vod&amp;nettype=0&amp;orderid=0,1&amp;buvid=&amp;build=0&amp;agrr=1&amp;bw=14280&amp;logo=80000000\",\"backupUrl\":null,\"backup_url\":null,\"bandwidth\":114223,\"mimeType\":\"audio/mp4\",\"mime_type\":\"audio/mp4\",\"codecs\":\"mp4a.40.2\",\"width\":0,\"height\":0,\"frameRate\":\"\",\"frame_rate\":\"\",\"sar\":\"\",\"startWithSap\":0,\"start_with_sap\":0,\"SegmentBase\":{\"Initialization\":\"0-933\",\"indexRange\":\"934-1529\"},\"segment_base\":{\"initialization\":\"0-933\",\"index_range\":\"934-1529\"},\"codecid\":0}],\"dolby\":{\"type\":0,\"audio\":null},\"flac\":null},\"support_formats\":[{\"quality\":112,\"format\":\"hdflv2\",\"new_description\":\"1080P 高码率\",\"display_desc\":\"1080P\",\"superscript\":\"高码率\",\"codecs\":[\"av01.0.08M.08.0.110.01.01.01.0\",\"avc1.640032\",\"hev1.1.6.L150.90\"]},{\"quality\":80,\"format\":\"flv\",\"new_description\":\"1080P 高清\",\"display_desc\":\"1080P\",\"superscript\":\"\",\"codecs\":[\"av01.0.08M.08.0.110.01.01.01.0\",\"avc1.640032\",\"hev1.1.6.L150.90\"]},{\"quality\":64,\"format\":\"flv720\",\"new_description\":\"720P 高清\",\"display_desc\":\"720P\",\"superscript\":\"\",\"codecs\":[\"av01.0.08M.08.0.110.01.01.01.0\",\"avc1.640028\",\"hev1.1.6.L120.90\"]},{\"quality\":32,\"format\":\"flv480\",\"new_description\":\"480P 清晰\",\"display_desc\":\"480P\",\"superscript\":\"\",\"codecs\":[\"av01.0.08M.08.0.110.01.01.01.0\",\"avc1.64001F\",\"hev1.1.6.L120.90\"]},{\"quality\":16,\"format\":\"mp4\",\"new_description\":\"360P 流畅\",\"display_desc\":\"360P\",\"superscript\":\"\",\"codecs\":[\"av01.0.08M.08.0.110.01.01.01.0\",\"avc1.64001E\",\"hev1.1.6.L120.90\"]}],\"high_format\":null,\"volume\":{\"measured_i\":-9.8,\"measured_lra\":5.5,\"measured_tp\":1.7,\"measured_threshold\":-20,\"target_offset\":-1.3,\"target_i\":-14,\"target_tp\":-1},\"last_play_time\":0,\"last_play_cid\":0},\"session\":\"9d42c6cf727e27bdbe58cb6edbb3f2b9\"}\n",
      "  </p>\n",
      " </body>\n",
      "</html>\n"
     ]
    }
   ],
   "source": [
    "print(soup.prettify())"
   ]
  },
  {
   "cell_type": "code",
   "execution_count": 104,
   "metadata": {},
   "outputs": [
    {
     "name": "stdout",
     "output_type": "stream",
     "text": [
      "None\n"
     ]
    }
   ],
   "source": [
    "print(soup.title)"
   ]
  },
  {
   "cell_type": "code",
   "execution_count": 136,
   "metadata": {},
   "outputs": [
    {
     "name": "stdout",
     "output_type": "stream",
     "text": [
      "<p>{\"code\":0,\"message\":\"0\",\"ttl\":1,\"data\":{\"from\":\"local\",\"result\":\"suee\",\"message\":\"\",\"quality\":32,\"format\":\"flv480\",\"timelength\":231124,\"accept_format\":\"hdflv2,flv,flv720,flv480,mp4\",\"accept_description\":[\"高清 1080P+\",\"高清 1080P\",\"高清 720P\",\"清晰 480P\",\"流畅 360P\"],\"accept_quality\":[112,80,64,32,16],\"video_codecid\":7,\"seek_param\":\"start\",\"seek_type\":\"offset\",\"dash\":{\"duration\":232,\"minBufferTime\":1.5,\"min_buffer_time\":1.5,\"video\":[{\"id\":32,\"baseUrl\":\"https://upos-hz-mirrorakam.akamaized.net/upgcxcode/84/69/958076984/958076984_nb3-1-30032.m4s?e=ig8euxZM2rNcNbdlhoNvNC8BqJIzNbfqXBvEqxTEto8BTrNvN0GvT90W5JZMkX_YN0MvXg8gNEV4NC8xNEV4N03eN0B5tZlqNxTEto8BTrNvNeZVuJ10Kj_g2UB02J0mN0B5tZlqNCNEto8BTrNvNC7MTX502C8f2jmMQJ6mqF2fka1mqx6gqj0eN0B599M=&amp;uipk=5&amp;nbs=1&amp;deadline=1675010750&amp;gen=playurlv2&amp;os=akam&amp;oi=1947205194&amp;trid=d80cd2a97af54c98a20db5c28bbc6964u&amp;mid=0&amp;platform=pc&amp;upsig=a3e75bb69bc19b6fe48c48906a25612e&amp;uparams=e,uipk,nbs,deadline,gen,os,oi,trid,mid,platform&amp;hdnts=exp=1675010750~hmac=61c6993f19a8aabc6a11cab4479adfa53a090e84f369f6c963dc9d48e14dc453&amp;bvc=vod&amp;nettype=0&amp;orderid=0,1&amp;buvid=&amp;build=0&amp;agrr=1&amp;bw=52821&amp;logo=80000000\",\"base_url\":\"https://upos-hz-mirrorakam.akamaized.net/upgcxcode/84/69/958076984/958076984_nb3-1-30032.m4s?e=ig8euxZM2rNcNbdlhoNvNC8BqJIzNbfqXBvEqxTEto8BTrNvN0GvT90W5JZMkX_YN0MvXg8gNEV4NC8xNEV4N03eN0B5tZlqNxTEto8BTrNvNeZVuJ10Kj_g2UB02J0mN0B5tZlqNCNEto8BTrNvNC7MTX502C8f2jmMQJ6mqF2fka1mqx6gqj0eN0B599M=&amp;uipk=5&amp;nbs=1&amp;deadline=1675010750&amp;gen=playurlv2&amp;os=akam&amp;oi=1947205194&amp;trid=d80cd2a97af54c98a20db5c28bbc6964u&amp;mid=0&amp;platform=pc&amp;upsig=a3e75bb69bc19b6fe48c48906a25612e&amp;uparams=e,uipk,nbs,deadline,gen,os,oi,trid,mid,platform&amp;hdnts=exp=1675010750~hmac=61c6993f19a8aabc6a11cab4479adfa53a090e84f369f6c963dc9d48e14dc453&amp;bvc=vod&amp;nettype=0&amp;orderid=0,1&amp;buvid=&amp;build=0&amp;agrr=1&amp;bw=52821&amp;logo=80000000\",\"backupUrl\":null,\"backup_url\":null,\"bandwidth\":420889,\"mimeType\":\"video/mp4\",\"mime_type\":\"video/mp4\",\"codecs\":\"avc1.64001F\",\"width\":846,\"height\":480,\"frameRate\":\"25\",\"frame_rate\":\"25\",\"sar\":\"800:799\",\"startWithSap\":1,\"start_with_sap\":1,\"SegmentBase\":{\"Initialization\":\"0-999\",\"indexRange\":\"1000-1583\"},\"segment_base\":{\"initialization\":\"0-999\",\"index_range\":\"1000-1583\"},\"codecid\":7},{\"id\":32,\"baseUrl\":\"https://upos-hz-mirrorakam.akamaized.net/upgcxcode/84/69/958076984/958076984-1-30033.m4s?e=ig8euxZM2rNcNbdlhoNvNC8BqJIzNbfqXBvEqxTEto8BTrNvN0GvT90W5JZMkX_YN0MvXg8gNEV4NC8xNEV4N03eN0B5tZlqNxTEto8BTrNvNeZVuJ10Kj_g2UB02J0mN0B5tZlqNCNEto8BTrNvNC7MTX502C8f2jmMQJ6mqF2fka1mqx6gqj0eN0B599M=&amp;uipk=5&amp;nbs=1&amp;deadline=1675010750&amp;gen=playurlv2&amp;os=akam&amp;oi=1947205194&amp;trid=d80cd2a97af54c98a20db5c28bbc6964u&amp;mid=0&amp;platform=pc&amp;upsig=bd48ea61f35300033695ec6ceb5ce80e&amp;uparams=e,uipk,nbs,deadline,gen,os,oi,trid,mid,platform&amp;hdnts=exp=1675010750~hmac=7bb924452f31dfce4fe6f288c52e1421c34faef3c3e02d01aeed0db537b1d44f&amp;bvc=vod&amp;nettype=0&amp;orderid=0,1&amp;buvid=&amp;build=0&amp;agrr=1&amp;bw=26629&amp;logo=80000000\",\"base_url\":\"https://upos-hz-mirrorakam.akamaized.net/upgcxcode/84/69/958076984/958076984-1-30033.m4s?e=ig8euxZM2rNcNbdlhoNvNC8BqJIzNbfqXBvEqxTEto8BTrNvN0GvT90W5JZMkX_YN0MvXg8gNEV4NC8xNEV4N03eN0B5tZlqNxTEto8BTrNvNeZVuJ10Kj_g2UB02J0mN0B5tZlqNCNEto8BTrNvNC7MTX502C8f2jmMQJ6mqF2fka1mqx6gqj0eN0B599M=&amp;uipk=5&amp;nbs=1&amp;deadline=1675010750&amp;gen=playurlv2&amp;os=akam&amp;oi=1947205194&amp;trid=d80cd2a97af54c98a20db5c28bbc6964u&amp;mid=0&amp;platform=pc&amp;upsig=bd48ea61f35300033695ec6ceb5ce80e&amp;uparams=e,uipk,nbs,deadline,gen,os,oi,trid,mid,platform&amp;hdnts=exp=1675010750~hmac=7bb924452f31dfce4fe6f288c52e1421c34faef3c3e02d01aeed0db537b1d44f&amp;bvc=vod&amp;nettype=0&amp;orderid=0,1&amp;buvid=&amp;build=0&amp;agrr=1&amp;bw=26629&amp;logo=80000000\",\"backupUrl\":null,\"backup_url\":null,\"bandwidth\":212185,\"mimeType\":\"video/mp4\",\"mime_type\":\"video/mp4\",\"codecs\":\"hev1.1.6.L120.90\",\"width\":846,\"height\":480,\"frameRate\":\"25\",\"frame_rate\":\"25\",\"sar\":\"800:799\",\"startWithSap\":1,\"start_with_sap\":1,\"SegmentBase\":{\"Initialization\":\"0-1163\",\"indexRange\":\"1164-1747\"},\"segment_base\":{\"initialization\":\"0-1163\",\"index_range\":\"1164-1747\"},\"codecid\":12},{\"id\":32,\"baseUrl\":\"https://upos-hz-mirrorakam.akamaized.net/upgcxcode/84/69/958076984/958076984-1-100023.m4s?e=ig8euxZM2rNcNbdlhoNvNC8BqJIzNbfqXBvEqxTEto8BTrNvN0GvT90W5JZMkX_YN0MvXg8gNEV4NC8xNEV4N03eN0B5tZlqNxTEto8BTrNvNeZVuJ10Kj_g2UB02J0mN0B5tZlqNCNEto8BTrNvNC7MTX502C8f2jmMQJ6mqF2fka1mqx6gqj0eN0B599M=&amp;uipk=5&amp;nbs=1&amp;deadline=1675010750&amp;gen=playurlv2&amp;os=akam&amp;oi=1947205194&amp;trid=d80cd2a97af54c98a20db5c28bbc6964u&amp;mid=0&amp;platform=pc&amp;upsig=c87435f5e5eb8dfb22da82f0e57f5d15&amp;uparams=e,uipk,nbs,deadline,gen,os,oi,trid,mid,platform&amp;hdnts=exp=1675010750~hmac=ae0ccdebc23ad857781b27a2f3fd3d5ca30aa0892edd9a1747b6457fe5a8b3c0&amp;bvc=vod&amp;nettype=0&amp;orderid=0,1&amp;buvid=&amp;build=0&amp;agrr=1&amp;bw=23420&amp;logo=80000000\",\"base_url\":\"https://upos-hz-mirrorakam.akamaized.net/upgcxcode/84/69/958076984/958076984-1-100023.m4s?e=ig8euxZM2rNcNbdlhoNvNC8BqJIzNbfqXBvEqxTEto8BTrNvN0GvT90W5JZMkX_YN0MvXg8gNEV4NC8xNEV4N03eN0B5tZlqNxTEto8BTrNvNeZVuJ10Kj_g2UB02J0mN0B5tZlqNCNEto8BTrNvNC7MTX502C8f2jmMQJ6mqF2fka1mqx6gqj0eN0B599M=&amp;uipk=5&amp;nbs=1&amp;deadline=1675010750&amp;gen=playurlv2&amp;os=akam&amp;oi=1947205194&amp;trid=d80cd2a97af54c98a20db5c28bbc6964u&amp;mid=0&amp;platform=pc&amp;upsig=c87435f5e5eb8dfb22da82f0e57f5d15&amp;uparams=e,uipk,nbs,deadline,gen,os,oi,trid,mid,platform&amp;hdnts=exp=1675010750~hmac=ae0ccdebc23ad857781b27a2f3fd3d5ca30aa0892edd9a1747b6457fe5a8b3c0&amp;bvc=vod&amp;nettype=0&amp;orderid=0,1&amp;buvid=&amp;build=0&amp;agrr=1&amp;bw=23420&amp;logo=80000000\",\"backupUrl\":null,\"backup_url\":null,\"bandwidth\":185599,\"mimeType\":\"video/mp4\",\"mime_type\":\"video/mp4\",\"codecs\":\"av01.0.08M.08.0.110.01.01.01.0\",\"width\":846,\"height\":480,\"frameRate\":\"25\",\"frame_rate\":\"25\",\"sar\":\"800:799\",\"startWithSap\":1,\"start_with_sap\":1,\"SegmentBase\":{\"Initialization\":\"0-1022\",\"indexRange\":\"1087-1682\"},\"segment_base\":{\"initialization\":\"0-1022\",\"index_range\":\"1087-1682\"},\"codecid\":13},{\"id\":16,\"baseUrl\":\"https://upos-hz-mirrorakam.akamaized.net/upgcxcode/84/69/958076984/958076984-1-30011.m4s?e=ig8euxZM2rNcNbdlhoNvNC8BqJIzNbfqXBvEqxTEto8BTrNvN0GvT90W5JZMkX_YN0MvXg8gNEV4NC8xNEV4N03eN0B5tZlqNxTEto8BTrNvNeZVuJ10Kj_g2UB02J0mN0B5tZlqNCNEto8BTrNvNC7MTX502C8f2jmMQJ6mqF2fka1mqx6gqj0eN0B599M=&amp;uipk=5&amp;nbs=1&amp;deadline=1675010750&amp;gen=playurlv2&amp;os=akam&amp;oi=1947205194&amp;trid=d80cd2a97af54c98a20db5c28bbc6964u&amp;mid=0&amp;platform=pc&amp;upsig=1f643c8d2193c0244a59075e1b0ba1ea&amp;uparams=e,uipk,nbs,deadline,gen,os,oi,trid,mid,platform&amp;hdnts=exp=1675010750~hmac=87130a808e9924c50488860625e38025c8c4ca6caaa43928ff63ace09e0ceab6&amp;bvc=vod&amp;nettype=0&amp;orderid=0,1&amp;buvid=&amp;build=0&amp;agrr=1&amp;bw=18077&amp;logo=80000000\",\"base_url\":\"https://upos-hz-mirrorakam.akamaized.net/upgcxcode/84/69/958076984/958076984-1-30011.m4s?e=ig8euxZM2rNcNbdlhoNvNC8BqJIzNbfqXBvEqxTEto8BTrNvN0GvT90W5JZMkX_YN0MvXg8gNEV4NC8xNEV4N03eN0B5tZlqNxTEto8BTrNvNeZVuJ10Kj_g2UB02J0mN0B5tZlqNCNEto8BTrNvNC7MTX502C8f2jmMQJ6mqF2fka1mqx6gqj0eN0B599M=&amp;uipk=5&amp;nbs=1&amp;deadline=1675010750&amp;gen=playurlv2&amp;os=akam&amp;oi=1947205194&amp;trid=d80cd2a97af54c98a20db5c28bbc6964u&amp;mid=0&amp;platform=pc&amp;upsig=1f643c8d2193c0244a59075e1b0ba1ea&amp;uparams=e,uipk,nbs,deadline,gen,os,oi,trid,mid,platform&amp;hdnts=exp=1675010750~hmac=87130a808e9924c50488860625e38025c8c4ca6caaa43928ff63ace09e0ceab6&amp;bvc=vod&amp;nettype=0&amp;orderid=0,1&amp;buvid=&amp;build=0&amp;agrr=1&amp;bw=18077&amp;logo=80000000\",\"backupUrl\":null,\"backup_url\":null,\"bandwidth\":144043,\"mimeType\":\"video/mp4\",\"mime_type\":\"video/mp4\",\"codecs\":\"hev1.1.6.L120.90\",\"width\":634,\"height\":360,\"frameRate\":\"25\",\"frame_rate\":\"25\",\"sar\":\"5400:5389\",\"startWithSap\":1,\"start_with_sap\":1,\"SegmentBase\":{\"Initialization\":\"0-1162\",\"indexRange\":\"1163-1746\"},\"segment_base\":{\"initialization\":\"0-1162\",\"index_range\":\"1163-1746\"},\"codecid\":12},{\"id\":16,\"baseUrl\":\"https://upos-hz-mirrorakam.akamaized.net/upgcxcode/84/69/958076984/958076984_nb3-1-30016.m4s?e=ig8euxZM2rNcNbdlhoNvNC8BqJIzNbfqXBvEqxTEto8BTrNvN0GvT90W5JZMkX_YN0MvXg8gNEV4NC8xNEV4N03eN0B5tZlqNxTEto8BTrNvNeZVuJ10Kj_g2UB02J0mN0B5tZlqNCNEto8BTrNvNC7MTX502C8f2jmMQJ6mqF2fka1mqx6gqj0eN0B599M=&amp;uipk=5&amp;nbs=1&amp;deadline=1675010750&amp;gen=playurlv2&amp;os=akam&amp;oi=1947205194&amp;trid=d80cd2a97af54c98a20db5c28bbc6964u&amp;mid=0&amp;platform=pc&amp;upsig=bf2455c96366061dc844284758aa6cd6&amp;uparams=e,uipk,nbs,deadline,gen,os,oi,trid,mid,platform&amp;hdnts=exp=1675010750~hmac=f47b59a9b3987e80e0b298794a4a338498413e18562d40575392248f7bfc8757&amp;bvc=vod&amp;nettype=0&amp;orderid=0,1&amp;buvid=&amp;build=0&amp;agrr=1&amp;bw=33726&amp;logo=80000000\",\"base_url\":\"https://upos-hz-mirrorakam.akamaized.net/upgcxcode/84/69/958076984/958076984_nb3-1-30016.m4s?e=ig8euxZM2rNcNbdlhoNvNC8BqJIzNbfqXBvEqxTEto8BTrNvN0GvT90W5JZMkX_YN0MvXg8gNEV4NC8xNEV4N03eN0B5tZlqNxTEto8BTrNvNeZVuJ10Kj_g2UB02J0mN0B5tZlqNCNEto8BTrNvNC7MTX502C8f2jmMQJ6mqF2fka1mqx6gqj0eN0B599M=&amp;uipk=5&amp;nbs=1&amp;deadline=1675010750&amp;gen=playurlv2&amp;os=akam&amp;oi=1947205194&amp;trid=d80cd2a97af54c98a20db5c28bbc6964u&amp;mid=0&amp;platform=pc&amp;upsig=bf2455c96366061dc844284758aa6cd6&amp;uparams=e,uipk,nbs,deadline,gen,os,oi,trid,mid,platform&amp;hdnts=exp=1675010750~hmac=f47b59a9b3987e80e0b298794a4a338498413e18562d40575392248f7bfc8757&amp;bvc=vod&amp;nettype=0&amp;orderid=0,1&amp;buvid=&amp;build=0&amp;agrr=1&amp;bw=33726&amp;logo=80000000\",\"backupUrl\":null,\"backup_url\":null,\"bandwidth\":268733,\"mimeType\":\"video/mp4\",\"mime_type\":\"video/mp4\",\"codecs\":\"avc1.64001E\",\"width\":634,\"height\":360,\"frameRate\":\"25\",\"frame_rate\":\"25\",\"sar\":\"3927:3919\",\"startWithSap\":1,\"start_with_sap\":1,\"SegmentBase\":{\"Initialization\":\"0-1007\",\"indexRange\":\"1008-1591\"},\"segment_base\":{\"initialization\":\"0-1007\",\"index_range\":\"1008-1591\"},\"codecid\":7},{\"id\":16,\"baseUrl\":\"https://upos-hz-mirrorakam.akamaized.net/upgcxcode/84/69/958076984/958076984-1-100022.m4s?e=ig8euxZM2rNcNbdlhoNvNC8BqJIzNbfqXBvEqxTEto8BTrNvN0GvT90W5JZMkX_YN0MvXg8gNEV4NC8xNEV4N03eN0B5tZlqNxTEto8BTrNvNeZVuJ10Kj_g2UB02J0mN0B5tZlqNCNEto8BTrNvNC7MTX502C8f2jmMQJ6mqF2fka1mqx6gqj0eN0B599M=&amp;uipk=5&amp;nbs=1&amp;deadline=1675010750&amp;gen=playurlv2&amp;os=akam&amp;oi=1947205194&amp;trid=d80cd2a97af54c98a20db5c28bbc6964u&amp;mid=0&amp;platform=pc&amp;upsig=1d8304a83c25d63b0e01eb8ee34229c9&amp;uparams=e,uipk,nbs,deadline,gen,os,oi,trid,mid,platform&amp;hdnts=exp=1675010750~hmac=0daf3ff5b0bbdd40e25269396d72425145f0962e54a6e1bebd3009a156ee639f&amp;bvc=vod&amp;nettype=0&amp;orderid=0,1&amp;buvid=&amp;build=0&amp;agrr=1&amp;bw=18904&amp;logo=80000000\",\"base_url\":\"https://upos-hz-mirrorakam.akamaized.net/upgcxcode/84/69/958076984/958076984-1-100022.m4s?e=ig8euxZM2rNcNbdlhoNvNC8BqJIzNbfqXBvEqxTEto8BTrNvN0GvT90W5JZMkX_YN0MvXg8gNEV4NC8xNEV4N03eN0B5tZlqNxTEto8BTrNvNeZVuJ10Kj_g2UB02J0mN0B5tZlqNCNEto8BTrNvNC7MTX502C8f2jmMQJ6mqF2fka1mqx6gqj0eN0B599M=&amp;uipk=5&amp;nbs=1&amp;deadline=1675010750&amp;gen=playurlv2&amp;os=akam&amp;oi=1947205194&amp;trid=d80cd2a97af54c98a20db5c28bbc6964u&amp;mid=0&amp;platform=pc&amp;upsig=1d8304a83c25d63b0e01eb8ee34229c9&amp;uparams=e,uipk,nbs,deadline,gen,os,oi,trid,mid,platform&amp;hdnts=exp=1675010750~hmac=0daf3ff5b0bbdd40e25269396d72425145f0962e54a6e1bebd3009a156ee639f&amp;bvc=vod&amp;nettype=0&amp;orderid=0,1&amp;buvid=&amp;build=0&amp;agrr=1&amp;bw=18904&amp;logo=80000000\",\"backupUrl\":null,\"backup_url\":null,\"bandwidth\":149617,\"mimeType\":\"video/mp4\",\"mime_type\":\"video/mp4\",\"codecs\":\"av01.0.08M.08.0.110.01.01.01.0\",\"width\":634,\"height\":360,\"frameRate\":\"25\",\"frame_rate\":\"25\",\"sar\":\"5400:5389\",\"startWithSap\":1,\"start_with_sap\":1,\"SegmentBase\":{\"Initialization\":\"0-1022\",\"indexRange\":\"1087-1682\"},\"segment_base\":{\"initialization\":\"0-1022\",\"index_range\":\"1087-1682\"},\"codecid\":13}],\"audio\":[{\"id\":30280,\"baseUrl\":\"https://upos-hz-mirrorakam.akamaized.net/upgcxcode/84/69/958076984/958076984_nb3-1-30280.m4s?e=ig8euxZM2rNcNbdlhoNvNC8BqJIzNbfqXBvEqxTEto8BTrNvN0GvT90W5JZMkX_YN0MvXg8gNEV4NC8xNEV4N03eN0B5tZlqNxTEto8BTrNvNeZVuJ10Kj_g2UB02J0mN0B5tZlqNCNEto8BTrNvNC7MTX502C8f2jmMQJ6mqF2fka1mqx6gqj0eN0B599M=&amp;uipk=5&amp;nbs=1&amp;deadline=1675010750&amp;gen=playurlv2&amp;os=akam&amp;oi=1947205194&amp;trid=d80cd2a97af54c98a20db5c28bbc6964u&amp;mid=0&amp;platform=pc&amp;upsig=44c211fc8260b7b8286787fa064e76d1&amp;uparams=e,uipk,nbs,deadline,gen,os,oi,trid,mid,platform&amp;hdnts=exp=1675010750~hmac=fd9fd2bbc497bc49021fd768936419492304d2037a6c3c041260a0c5090b73fd&amp;bvc=vod&amp;nettype=0&amp;orderid=0,1&amp;buvid=&amp;build=0&amp;agrr=1&amp;bw=27113&amp;logo=80000000\",\"base_url\":\"https://upos-hz-mirrorakam.akamaized.net/upgcxcode/84/69/958076984/958076984_nb3-1-30280.m4s?e=ig8euxZM2rNcNbdlhoNvNC8BqJIzNbfqXBvEqxTEto8BTrNvN0GvT90W5JZMkX_YN0MvXg8gNEV4NC8xNEV4N03eN0B5tZlqNxTEto8BTrNvNeZVuJ10Kj_g2UB02J0mN0B5tZlqNCNEto8BTrNvNC7MTX502C8f2jmMQJ6mqF2fka1mqx6gqj0eN0B599M=&amp;uipk=5&amp;nbs=1&amp;deadline=1675010750&amp;gen=playurlv2&amp;os=akam&amp;oi=1947205194&amp;trid=d80cd2a97af54c98a20db5c28bbc6964u&amp;mid=0&amp;platform=pc&amp;upsig=44c211fc8260b7b8286787fa064e76d1&amp;uparams=e,uipk,nbs,deadline,gen,os,oi,trid,mid,platform&amp;hdnts=exp=1675010750~hmac=fd9fd2bbc497bc49021fd768936419492304d2037a6c3c041260a0c5090b73fd&amp;bvc=vod&amp;nettype=0&amp;orderid=0,1&amp;buvid=&amp;build=0&amp;agrr=1&amp;bw=27113&amp;logo=80000000\",\"backupUrl\":null,\"backup_url\":null,\"bandwidth\":216870,\"mimeType\":\"audio/mp4\",\"mime_type\":\"audio/mp4\",\"codecs\":\"mp4a.40.2\",\"width\":0,\"height\":0,\"frameRate\":\"\",\"frame_rate\":\"\",\"sar\":\"\",\"startWithSap\":0,\"start_with_sap\":0,\"SegmentBase\":{\"Initialization\":\"0-933\",\"indexRange\":\"934-1529\"},\"segment_base\":{\"initialization\":\"0-933\",\"index_range\":\"934-1529\"},\"codecid\":0},{\"id\":30216,\"baseUrl\":\"https://upos-hz-mirrorakam.akamaized.net/upgcxcode/84/69/958076984/958076984_nb3-1-30216.m4s?e=ig8euxZM2rNcNbdlhoNvNC8BqJIzNbfqXBvEqxTEto8BTrNvN0GvT90W5JZMkX_YN0MvXg8gNEV4NC8xNEV4N03eN0B5tZlqNxTEto8BTrNvNeZVuJ10Kj_g2UB02J0mN0B5tZlqNCNEto8BTrNvNC7MTX502C8f2jmMQJ6mqF2fka1mqx6gqj0eN0B599M=&amp;uipk=5&amp;nbs=1&amp;deadline=1675010750&amp;gen=playurlv2&amp;os=akam&amp;oi=1947205194&amp;trid=d80cd2a97af54c98a20db5c28bbc6964u&amp;mid=0&amp;platform=pc&amp;upsig=deec814620816194ba39e28a134129fc&amp;uparams=e,uipk,nbs,deadline,gen,os,oi,trid,mid,platform&amp;hdnts=exp=1675010750~hmac=1a7df0530b876ccd73f9cd2d4bfe2d3aac220c1493cbfa393671c4c5ae18d059&amp;bvc=vod&amp;nettype=0&amp;orderid=0,1&amp;buvid=&amp;build=0&amp;agrr=1&amp;bw=6643&amp;logo=80000000\",\"base_url\":\"https://upos-hz-mirrorakam.akamaized.net/upgcxcode/84/69/958076984/958076984_nb3-1-30216.m4s?e=ig8euxZM2rNcNbdlhoNvNC8BqJIzNbfqXBvEqxTEto8BTrNvN0GvT90W5JZMkX_YN0MvXg8gNEV4NC8xNEV4N03eN0B5tZlqNxTEto8BTrNvNeZVuJ10Kj_g2UB02J0mN0B5tZlqNCNEto8BTrNvNC7MTX502C8f2jmMQJ6mqF2fka1mqx6gqj0eN0B599M=&amp;uipk=5&amp;nbs=1&amp;deadline=1675010750&amp;gen=playurlv2&amp;os=akam&amp;oi=1947205194&amp;trid=d80cd2a97af54c98a20db5c28bbc6964u&amp;mid=0&amp;platform=pc&amp;upsig=deec814620816194ba39e28a134129fc&amp;uparams=e,uipk,nbs,deadline,gen,os,oi,trid,mid,platform&amp;hdnts=exp=1675010750~hmac=1a7df0530b876ccd73f9cd2d4bfe2d3aac220c1493cbfa393671c4c5ae18d059&amp;bvc=vod&amp;nettype=0&amp;orderid=0,1&amp;buvid=&amp;build=0&amp;agrr=1&amp;bw=6643&amp;logo=80000000\",\"backupUrl\":null,\"backup_url\":null,\"bandwidth\":53121,\"mimeType\":\"audio/mp4\",\"mime_type\":\"audio/mp4\",\"codecs\":\"mp4a.40.5\",\"width\":0,\"height\":0,\"frameRate\":\"\",\"frame_rate\":\"\",\"sar\":\"\",\"startWithSap\":0,\"start_with_sap\":0,\"SegmentBase\":{\"Initialization\":\"0-943\",\"indexRange\":\"944-1539\"},\"segment_base\":{\"initialization\":\"0-943\",\"index_range\":\"944-1539\"},\"codecid\":0},{\"id\":30232,\"baseUrl\":\"https://upos-hz-mirrorakam.akamaized.net/upgcxcode/84/69/958076984/958076984_nb3-1-30232.m4s?e=ig8euxZM2rNcNbdlhoNvNC8BqJIzNbfqXBvEqxTEto8BTrNvN0GvT90W5JZMkX_YN0MvXg8gNEV4NC8xNEV4N03eN0B5tZlqNxTEto8BTrNvNeZVuJ10Kj_g2UB02J0mN0B5tZlqNCNEto8BTrNvNC7MTX502C8f2jmMQJ6mqF2fka1mqx6gqj0eN0B599M=&amp;uipk=5&amp;nbs=1&amp;deadline=1675010750&amp;gen=playurlv2&amp;os=akam&amp;oi=1947205194&amp;trid=d80cd2a97af54c98a20db5c28bbc6964u&amp;mid=0&amp;platform=pc&amp;upsig=6cfa46da8837a267020ee327d2f39bcd&amp;uparams=e,uipk,nbs,deadline,gen,os,oi,trid,mid,platform&amp;hdnts=exp=1675010750~hmac=121e3b26fa1ab5a9806ed8c9b56502848dd4201cca4d0cfaffa0605607c0905d&amp;bvc=vod&amp;nettype=0&amp;orderid=0,1&amp;buvid=&amp;build=0&amp;agrr=1&amp;bw=14280&amp;logo=80000000\",\"base_url\":\"https://upos-hz-mirrorakam.akamaized.net/upgcxcode/84/69/958076984/958076984_nb3-1-30232.m4s?e=ig8euxZM2rNcNbdlhoNvNC8BqJIzNbfqXBvEqxTEto8BTrNvN0GvT90W5JZMkX_YN0MvXg8gNEV4NC8xNEV4N03eN0B5tZlqNxTEto8BTrNvNeZVuJ10Kj_g2UB02J0mN0B5tZlqNCNEto8BTrNvNC7MTX502C8f2jmMQJ6mqF2fka1mqx6gqj0eN0B599M=&amp;uipk=5&amp;nbs=1&amp;deadline=1675010750&amp;gen=playurlv2&amp;os=akam&amp;oi=1947205194&amp;trid=d80cd2a97af54c98a20db5c28bbc6964u&amp;mid=0&amp;platform=pc&amp;upsig=6cfa46da8837a267020ee327d2f39bcd&amp;uparams=e,uipk,nbs,deadline,gen,os,oi,trid,mid,platform&amp;hdnts=exp=1675010750~hmac=121e3b26fa1ab5a9806ed8c9b56502848dd4201cca4d0cfaffa0605607c0905d&amp;bvc=vod&amp;nettype=0&amp;orderid=0,1&amp;buvid=&amp;build=0&amp;agrr=1&amp;bw=14280&amp;logo=80000000\",\"backupUrl\":null,\"backup_url\":null,\"bandwidth\":114223,\"mimeType\":\"audio/mp4\",\"mime_type\":\"audio/mp4\",\"codecs\":\"mp4a.40.2\",\"width\":0,\"height\":0,\"frameRate\":\"\",\"frame_rate\":\"\",\"sar\":\"\",\"startWithSap\":0,\"start_with_sap\":0,\"SegmentBase\":{\"Initialization\":\"0-933\",\"indexRange\":\"934-1529\"},\"segment_base\":{\"initialization\":\"0-933\",\"index_range\":\"934-1529\"},\"codecid\":0}],\"dolby\":{\"type\":0,\"audio\":null},\"flac\":null},\"support_formats\":[{\"quality\":112,\"format\":\"hdflv2\",\"new_description\":\"1080P 高码率\",\"display_desc\":\"1080P\",\"superscript\":\"高码率\",\"codecs\":[\"av01.0.08M.08.0.110.01.01.01.0\",\"avc1.640032\",\"hev1.1.6.L150.90\"]},{\"quality\":80,\"format\":\"flv\",\"new_description\":\"1080P 高清\",\"display_desc\":\"1080P\",\"superscript\":\"\",\"codecs\":[\"av01.0.08M.08.0.110.01.01.01.0\",\"avc1.640032\",\"hev1.1.6.L150.90\"]},{\"quality\":64,\"format\":\"flv720\",\"new_description\":\"720P 高清\",\"display_desc\":\"720P\",\"superscript\":\"\",\"codecs\":[\"av01.0.08M.08.0.110.01.01.01.0\",\"avc1.640028\",\"hev1.1.6.L120.90\"]},{\"quality\":32,\"format\":\"flv480\",\"new_description\":\"480P 清晰\",\"display_desc\":\"480P\",\"superscript\":\"\",\"codecs\":[\"av01.0.08M.08.0.110.01.01.01.0\",\"avc1.64001F\",\"hev1.1.6.L120.90\"]},{\"quality\":16,\"format\":\"mp4\",\"new_description\":\"360P 流畅\",\"display_desc\":\"360P\",\"superscript\":\"\",\"codecs\":[\"av01.0.08M.08.0.110.01.01.01.0\",\"avc1.64001E\",\"hev1.1.6.L120.90\"]}],\"high_format\":null,\"volume\":{\"measured_i\":-9.8,\"measured_lra\":5.5,\"measured_tp\":1.7,\"measured_threshold\":-20,\"target_offset\":-1.3,\"target_i\":-14,\"target_tp\":-1},\"last_play_time\":0,\"last_play_cid\":0},\"session\":\"9d42c6cf727e27bdbe58cb6edbb3f2b9\"}</p>\n"
     ]
    }
   ],
   "source": [
    "print(soup.p)"
   ]
  },
  {
   "cell_type": "code",
   "execution_count": null,
   "metadata": {},
   "outputs": [],
   "source": []
  },
  {
   "cell_type": "code",
   "execution_count": null,
   "metadata": {},
   "outputs": [],
   "source": []
  }
 ],
 "metadata": {
  "kernelspec": {
   "display_name": "Python 3",
   "language": "python",
   "name": "python3"
  },
  "language_info": {
   "codemirror_mode": {
    "name": "ipython",
    "version": 3
   },
   "file_extension": ".py",
   "mimetype": "text/x-python",
   "name": "python",
   "nbconvert_exporter": "python",
   "pygments_lexer": "ipython3",
   "version": "3.10.2"
  },
  "orig_nbformat": 4,
  "vscode": {
   "interpreter": {
    "hash": "5b1f33399832d82de22fd5d9e46625e4554f39f18420d625f104b2425c21c09c"
   }
  }
 },
 "nbformat": 4,
 "nbformat_minor": 2
}
